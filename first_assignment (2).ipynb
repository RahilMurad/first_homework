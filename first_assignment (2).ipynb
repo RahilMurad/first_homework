{
  "nbformat": 4,
  "nbformat_minor": 0,
  "metadata": {
    "colab": {
      "provenance": []
    },
    "kernelspec": {
      "name": "python3",
      "display_name": "Python 3"
    },
    "language_info": {
      "name": "python"
    }
  },
  "cells": [
    {
      "cell_type": "markdown",
      "source": [],
      "metadata": {
        "id": "vhJaGM2enYld"
      }
    },
    {
      "cell_type": "code",
      "source": [],
      "metadata": {
        "id": "ubeYrLJwmwnr"
      },
      "execution_count": null,
      "outputs": []
    },
    {
      "cell_type": "markdown",
      "source": [
        "1. Explain the key featu$es of Python that make it a popular choice for programming ?\n",
        "\n",
        "Ans:-\n",
        "Python Features and Advantages\n",
        "Easy to Code. Python is a very high-level programming language, yet it is effortless to learn. ...\n",
        "Easy to Read. Python code looks like simple English words. ...\n",
        "Free and Open-Source. ...\n",
        "Robust Standard Library. ...\n",
        "Interpreted. ...\n",
        "Portable. ...\n",
        "Object-Oriented and Procedure-Oriented. ...\n",
        "Extensible."
      ],
      "metadata": {
        "id": "e2qvgjSSnlWW"
      }
    },
    {
      "cell_type": "markdown",
      "source": [],
      "metadata": {
        "id": "qMmBXrlNniB3"
      }
    },
    {
      "cell_type": "markdown",
      "source": [
        "2.Describe the role of predefined keywords in Python and provide examples of how they are used in a\n",
        "programming.\n",
        "\n",
        "Ans:-\n",
        "Python Keywords are some predefined and reserved words in Python that have special meanings.\n",
        "Keywords are used to define the syntax of the coding. The keyword cannot be used as an identifier, function, or variable name.\n",
        "All the keywords in Python are written in lowercase except True and False."
      ],
      "metadata": {
        "id": "uUdsivV7nrYM"
      }
    },
    {
      "cell_type": "code",
      "source": [],
      "metadata": {
        "id": "GHkCkBw1n_uO"
      },
      "execution_count": null,
      "outputs": []
    },
    {
      "cell_type": "markdown",
      "source": [
        "3. Compare and contrast mutable and immutable objects in Python with examples.\n",
        "\n",
        "Ans:-\n",
        "\n",
        " Mutable objects in Python are those that can be changed after they are created, like lists or dictionaries. Immutable objects, on the other hand, cannot be changed after they are created, such as strings, integers, or tuples"
      ],
      "metadata": {
        "id": "Q5mc0vj7oDXR"
      }
    },
    {
      "cell_type": "code",
      "source": [],
      "metadata": {
        "id": "SOFCfMCOoG5A"
      },
      "execution_count": null,
      "outputs": []
    },
    {
      "cell_type": "markdown",
      "source": [
        "4 .Discuss the different types of operatorss in Python and provide examples of how they are used ?\n",
        "\n",
        "Ans:-\n",
        "\n",
        "Types of Python Operators\n",
        "Python language supports various types of operators, which are:\n",
        "1.Arithmetic Operators\n",
        "2.Comparison (Relational) Operators\n",
        "3.Assignment Operators\n",
        "4.Logical Operators\n",
        "5.Bitwise Operators\n",
        "6.Membership Operators\n",
        "7.Identity Operators\n",
        "\n",
        "Operator\tName\t          Example\n",
        "+\t     Addition\t         10 + 20 = 30\n",
        "-\t   Subtraction\t       20 – 10 = 10\n",
        "*\t  Multiplication\t     10 * 20 = 200\n",
        "/\t    Division\t         20 / 10 = 2\n",
        "%\t     Modulus\t         22 % 10 = 2\n",
        "**\t   Exponent\t            4**2 = 16\n",
        "//\t Floor Division\t        9//2 = 4\n"
      ],
      "metadata": {
        "id": "vUMr34ZloIa5"
      }
    },
    {
      "cell_type": "code",
      "source": [],
      "metadata": {
        "id": "uPKB84Vqof8d"
      },
      "execution_count": null,
      "outputs": []
    },
    {
      "cell_type": "markdown",
      "source": [
        "5.Explain the concept of type casting in Python with examples .\n",
        "\n",
        "Ans:-\n",
        "\n",
        "Python automatically converts one data type to another data type. This process doesn't need any user involvement Python promotes the conversion of lower data type, for example, integer to higher data type says float to avoid data loss.\n",
        "This type of conversion or type casting is called UpCasting."
      ],
      "metadata": {
        "id": "tP2rrj6XohGo"
      }
    },
    {
      "cell_type": "markdown",
      "source": [
        "6.How do conditional statements work in Python? Illustrate with examples.\n",
        "\n",
        "Ans:-\n",
        "\n",
        "#code\n",
        "score = 85\n",
        "\n",
        "if score >= 90:\n",
        "    grade = \"A\"\n",
        "elif score >= 80:\n",
        "    grade = \"B\"\n",
        "elif score >= 70:\n",
        "    grade = \"C\"\n",
        "elif score >= 60:\n",
        "    grade = \"D\"\n",
        "else:\n",
        "    grade = \"F\"\n",
        "\n",
        "print(\"Your grade is:\", grade)\n",
        "\n",
        "OutPut:\n",
        "\n",
        "Your grade is: B"
      ],
      "metadata": {
        "id": "ooXdbVNPokcC"
      }
    },
    {
      "cell_type": "markdown",
      "source": [
        "7.Describe the different types of loops in Python and their use cases with examples .\n",
        "\n",
        "Ans:-\n",
        "\n",
        "In Python, loops are fundamental constructs used for repeating a block of code multiple times. The two primary types of loops in Python are 'for' loops and while loops. Each serves different use cases and has its own syntax.\n",
        "\n",
        "\n",
        "1.'for' Loops\n",
        "Purpose:\n",
        "for loops are used to iterate over a sequence (such as a list, tuple, dictionary, string, or range) or other iterable objects. They are ideal for scenarios where you need to perform an operation a specific number of times or process each item in a collection.\n",
        "\n",
        "Use Cases and Examples:\n",
        "\n",
        "1.Iterating Over a List:\n",
        "\n",
        "fruits = ['apple', 'banana', 'cherry']\n",
        "for fruit in fruits:\n",
        "    print(fruit)\n",
        "    \n",
        "    \n",
        "Output:\n",
        "\n",
        "apple\n",
        "banana\n",
        "cherry\n",
        "\n",
        "2.Iterating Over a Range of Numbers:\n",
        "\n",
        "for i in range(5):\n",
        "    print(i)\n",
        "    \n",
        "    \n",
        "Output:\n",
        "\n",
        "0\n",
        "1\n",
        "2\n",
        "3\n",
        "4\n",
        "\n",
        "3.Iterating Over a Dictionary:\n",
        "\n",
        "\n",
        "person = {'name': 'John', 'age': 30, 'city': 'New York'}\n",
        "for key, value in person.items():\n",
        "    print(f\"{key}: {value}\")\n",
        "    \n",
        "    \n",
        "Output:\n",
        "\n",
        "name: John\n",
        "age: 30\n",
        "city: New York\n",
        "\n",
        "4.List Comprehensions (a compact form of a for loop):\n",
        "\n",
        "squares = [x**2 for x in range(10)]\n",
        "print(squares)\n",
        "\n",
        "\n",
        "Output:\n",
        "\n",
        "[0, 1, 4, 9, 16, 25, 36, 49, 64, 81]\n",
        "\n",
        "\n",
        "2.Loop Until a Condition is Met:\n",
        "\n",
        "user_input = ''\n",
        "while user_input.lower() != 'quit':\n",
        "    user_input = input(\"Type 'quit' to exit: \")\n",
        "    print(f\"You typed: {user_input}\")\n",
        "    \n",
        "    \n",
        "3.Infinite Loop with a Break Condition:\n",
        "\n",
        "while True:\n",
        "    response = input(\"Enter 'exit' to break the loop: \")\n",
        "    if response.lower() == 'exit':\n",
        "        break\n",
        "    print(f\"You entered: {response}\")\n"
      ],
      "metadata": {
        "id": "jE5c7_12opFr"
      }
    }
  ]
}